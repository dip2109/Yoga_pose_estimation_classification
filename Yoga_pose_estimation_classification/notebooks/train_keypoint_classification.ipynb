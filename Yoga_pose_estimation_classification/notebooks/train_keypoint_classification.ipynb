{
 "cells": [
  {
   "cell_type": "code",
   "execution_count": 1,
   "metadata": {},
   "outputs": [],
   "source": [
    "import numpy as np\n",
    "import pandas as pd\n",
    "from tqdm import tqdm\n",
    "import matplotlib.pyplot as plt\n",
    "\n",
    "from sklearn.preprocessing import LabelEncoder, MinMaxScaler\n",
    "from sklearn.utils.class_weight import compute_class_weight\n",
    "from sklearn.model_selection import train_test_split\n",
    "from sklearn.metrics import classification_report, confusion_matrix\n",
    "\n",
    "import torch\n",
    "from torch import nn\n",
    "from torch.utils.data import Dataset, DataLoader, SubsetRandomSampler\n",
    "\n",
    "device = torch.device(\"cuda\" if torch.cuda.is_available() else \"cpu\")"
   ]
  },
  {
   "attachments": {},
   "cell_type": "markdown",
   "metadata": {},
   "source": [
    "## Read Dataset"
   ]
  },
  {
   "cell_type": "code",
   "execution_count": 4,
   "metadata": {},
   "outputs": [
    {
     "data": {
      "text/html": [
       "<div>\n",
       "<style scoped>\n",
       "    .dataframe tbody tr th:only-of-type {\n",
       "        vertical-align: middle;\n",
       "    }\n",
       "\n",
       "    .dataframe tbody tr th {\n",
       "        vertical-align: top;\n",
       "    }\n",
       "\n",
       "    .dataframe thead th {\n",
       "        text-align: right;\n",
       "    }\n",
       "</style>\n",
       "<table border=\"1\" class=\"dataframe\">\n",
       "  <thead>\n",
       "    <tr style=\"text-align: right;\">\n",
       "      <th></th>\n",
       "      <th>image_name</th>\n",
       "      <th>label</th>\n",
       "      <th>nose_x</th>\n",
       "      <th>nose_y</th>\n",
       "      <th>left_eye_x</th>\n",
       "      <th>left_eye_y</th>\n",
       "      <th>right_eye_x</th>\n",
       "      <th>right_eye_y</th>\n",
       "      <th>left_ear_x</th>\n",
       "      <th>left_ear_y</th>\n",
       "      <th>...</th>\n",
       "      <th>right_hip_x</th>\n",
       "      <th>right_hip_y</th>\n",
       "      <th>left_knee_x</th>\n",
       "      <th>left_knee_y</th>\n",
       "      <th>right_knee_x</th>\n",
       "      <th>right_knee_y</th>\n",
       "      <th>left_ankle_x</th>\n",
       "      <th>left_ankle_y</th>\n",
       "      <th>right_ankle_x</th>\n",
       "      <th>right_ankle_y</th>\n",
       "    </tr>\n",
       "  </thead>\n",
       "  <tbody>\n",
       "    <tr>\n",
       "      <th>0</th>\n",
       "      <td>Downdog\\00000000.jpg</td>\n",
       "      <td>Downdog</td>\n",
       "      <td>0.518646</td>\n",
       "      <td>0.742915</td>\n",
       "      <td>0.00000</td>\n",
       "      <td>0.000000</td>\n",
       "      <td>0.000000</td>\n",
       "      <td>0.000000</td>\n",
       "      <td>0.465422</td>\n",
       "      <td>0.710346</td>\n",
       "      <td>...</td>\n",
       "      <td>0.695969</td>\n",
       "      <td>0.260520</td>\n",
       "      <td>0.619796</td>\n",
       "      <td>0.504690</td>\n",
       "      <td>0.762562</td>\n",
       "      <td>0.551694</td>\n",
       "      <td>0.706103</td>\n",
       "      <td>0.790374</td>\n",
       "      <td>0.879458</td>\n",
       "      <td>0.832860</td>\n",
       "    </tr>\n",
       "    <tr>\n",
       "      <th>1</th>\n",
       "      <td>Downdog\\00000001.jpg</td>\n",
       "      <td>Downdog</td>\n",
       "      <td>0.578676</td>\n",
       "      <td>0.792068</td>\n",
       "      <td>0.00000</td>\n",
       "      <td>0.000000</td>\n",
       "      <td>0.595278</td>\n",
       "      <td>0.774829</td>\n",
       "      <td>0.000000</td>\n",
       "      <td>0.000000</td>\n",
       "      <td>...</td>\n",
       "      <td>0.453109</td>\n",
       "      <td>0.348371</td>\n",
       "      <td>0.355281</td>\n",
       "      <td>0.578486</td>\n",
       "      <td>0.325459</td>\n",
       "      <td>0.613711</td>\n",
       "      <td>0.259589</td>\n",
       "      <td>0.717657</td>\n",
       "      <td>0.194717</td>\n",
       "      <td>0.825359</td>\n",
       "    </tr>\n",
       "    <tr>\n",
       "      <th>2</th>\n",
       "      <td>Downdog\\00000002.jpg</td>\n",
       "      <td>Downdog</td>\n",
       "      <td>0.649348</td>\n",
       "      <td>0.758621</td>\n",
       "      <td>0.00000</td>\n",
       "      <td>0.000000</td>\n",
       "      <td>0.645598</td>\n",
       "      <td>0.722505</td>\n",
       "      <td>0.000000</td>\n",
       "      <td>0.000000</td>\n",
       "      <td>...</td>\n",
       "      <td>0.451703</td>\n",
       "      <td>0.435310</td>\n",
       "      <td>0.397286</td>\n",
       "      <td>0.429829</td>\n",
       "      <td>0.367691</td>\n",
       "      <td>0.434211</td>\n",
       "      <td>0.000000</td>\n",
       "      <td>0.000000</td>\n",
       "      <td>0.215103</td>\n",
       "      <td>0.568303</td>\n",
       "    </tr>\n",
       "    <tr>\n",
       "      <th>3</th>\n",
       "      <td>Downdog\\00000003.jpg</td>\n",
       "      <td>Downdog</td>\n",
       "      <td>0.593252</td>\n",
       "      <td>0.748428</td>\n",
       "      <td>0.00000</td>\n",
       "      <td>0.000000</td>\n",
       "      <td>0.606240</td>\n",
       "      <td>0.739058</td>\n",
       "      <td>0.000000</td>\n",
       "      <td>0.000000</td>\n",
       "      <td>...</td>\n",
       "      <td>0.456534</td>\n",
       "      <td>0.374978</td>\n",
       "      <td>0.334141</td>\n",
       "      <td>0.473744</td>\n",
       "      <td>0.306259</td>\n",
       "      <td>0.505056</td>\n",
       "      <td>0.276306</td>\n",
       "      <td>0.649070</td>\n",
       "      <td>0.208824</td>\n",
       "      <td>0.730870</td>\n",
       "    </tr>\n",
       "    <tr>\n",
       "      <th>4</th>\n",
       "      <td>Downdog\\00000004.jpg</td>\n",
       "      <td>Downdog</td>\n",
       "      <td>0.340675</td>\n",
       "      <td>0.712822</td>\n",
       "      <td>0.33188</td>\n",
       "      <td>0.706322</td>\n",
       "      <td>0.348672</td>\n",
       "      <td>0.702173</td>\n",
       "      <td>0.302837</td>\n",
       "      <td>0.665436</td>\n",
       "      <td>...</td>\n",
       "      <td>0.502486</td>\n",
       "      <td>0.255956</td>\n",
       "      <td>0.652999</td>\n",
       "      <td>0.375235</td>\n",
       "      <td>0.648922</td>\n",
       "      <td>0.391600</td>\n",
       "      <td>0.811773</td>\n",
       "      <td>0.609761</td>\n",
       "      <td>0.798204</td>\n",
       "      <td>0.637249</td>\n",
       "    </tr>\n",
       "  </tbody>\n",
       "</table>\n",
       "<p>5 rows × 36 columns</p>\n",
       "</div>"
      ],
      "text/plain": [
       "             image_name    label    nose_x    nose_y  left_eye_x  left_eye_y  \\\n",
       "0  Downdog\\00000000.jpg  Downdog  0.518646  0.742915     0.00000    0.000000   \n",
       "1  Downdog\\00000001.jpg  Downdog  0.578676  0.792068     0.00000    0.000000   \n",
       "2  Downdog\\00000002.jpg  Downdog  0.649348  0.758621     0.00000    0.000000   \n",
       "3  Downdog\\00000003.jpg  Downdog  0.593252  0.748428     0.00000    0.000000   \n",
       "4  Downdog\\00000004.jpg  Downdog  0.340675  0.712822     0.33188    0.706322   \n",
       "\n",
       "   right_eye_x  right_eye_y  left_ear_x  left_ear_y  ...  right_hip_x  \\\n",
       "0     0.000000     0.000000    0.465422    0.710346  ...     0.695969   \n",
       "1     0.595278     0.774829    0.000000    0.000000  ...     0.453109   \n",
       "2     0.645598     0.722505    0.000000    0.000000  ...     0.451703   \n",
       "3     0.606240     0.739058    0.000000    0.000000  ...     0.456534   \n",
       "4     0.348672     0.702173    0.302837    0.665436  ...     0.502486   \n",
       "\n",
       "   right_hip_y  left_knee_x  left_knee_y  right_knee_x  right_knee_y  \\\n",
       "0     0.260520     0.619796     0.504690      0.762562      0.551694   \n",
       "1     0.348371     0.355281     0.578486      0.325459      0.613711   \n",
       "2     0.435310     0.397286     0.429829      0.367691      0.434211   \n",
       "3     0.374978     0.334141     0.473744      0.306259      0.505056   \n",
       "4     0.255956     0.652999     0.375235      0.648922      0.391600   \n",
       "\n",
       "   left_ankle_x  left_ankle_y  right_ankle_x  right_ankle_y  \n",
       "0      0.706103      0.790374       0.879458       0.832860  \n",
       "1      0.259589      0.717657       0.194717       0.825359  \n",
       "2      0.000000      0.000000       0.215103       0.568303  \n",
       "3      0.276306      0.649070       0.208824       0.730870  \n",
       "4      0.811773      0.609761       0.798204       0.637249  \n",
       "\n",
       "[5 rows x 36 columns]"
      ]
     },
     "execution_count": 4,
     "metadata": {},
     "output_type": "execute_result"
    }
   ],
   "source": [
    "df = pd.read_csv(r'C:\\Users\\ganga\\Downloads\\YOLO v-8 code\\yolo v-8 HPE\\notebooks\\yoga_pose_keypoint.csv')\n",
    "df.head()"
   ]
  },
  {
   "cell_type": "code",
   "execution_count": 5,
   "metadata": {},
   "outputs": [
    {
     "name": "stdout",
     "output_type": "stream",
     "text": [
      "<class 'pandas.core.frame.DataFrame'>\n",
      "RangeIndex: 1004 entries, 0 to 1003\n",
      "Data columns (total 36 columns):\n",
      " #   Column            Non-Null Count  Dtype  \n",
      "---  ------            --------------  -----  \n",
      " 0   image_name        1004 non-null   object \n",
      " 1   label             1004 non-null   object \n",
      " 2   nose_x            1004 non-null   float64\n",
      " 3   nose_y            1004 non-null   float64\n",
      " 4   left_eye_x        1004 non-null   float64\n",
      " 5   left_eye_y        1004 non-null   float64\n",
      " 6   right_eye_x       1004 non-null   float64\n",
      " 7   right_eye_y       1004 non-null   float64\n",
      " 8   left_ear_x        1004 non-null   float64\n",
      " 9   left_ear_y        1004 non-null   float64\n",
      " 10  right_ear_x       1004 non-null   float64\n",
      " 11  right_ear_y       1004 non-null   float64\n",
      " 12  left_shoulder_x   1004 non-null   float64\n",
      " 13  left_shoulder_y   1004 non-null   float64\n",
      " 14  right_shoulder_x  1004 non-null   float64\n",
      " 15  right_shoulder_y  1004 non-null   float64\n",
      " 16  left_elbow_x      1004 non-null   float64\n",
      " 17  left_elbow_y      1004 non-null   float64\n",
      " 18  right_elbow_x     1004 non-null   float64\n",
      " 19  right_elbow_y     1004 non-null   float64\n",
      " 20  left_wrist_x      1004 non-null   float64\n",
      " 21  left_wrist_y      1004 non-null   float64\n",
      " 22  right_wrist_x     1004 non-null   float64\n",
      " 23  right_wrist_y     1004 non-null   float64\n",
      " 24  left_hip_x        1004 non-null   float64\n",
      " 25  left_hip_y        1004 non-null   float64\n",
      " 26  right_hip_x       1004 non-null   float64\n",
      " 27  right_hip_y       1004 non-null   float64\n",
      " 28  left_knee_x       1004 non-null   float64\n",
      " 29  left_knee_y       1004 non-null   float64\n",
      " 30  right_knee_x      1004 non-null   float64\n",
      " 31  right_knee_y      1004 non-null   float64\n",
      " 32  left_ankle_x      1004 non-null   float64\n",
      " 33  left_ankle_y      1004 non-null   float64\n",
      " 34  right_ankle_x     1004 non-null   float64\n",
      " 35  right_ankle_y     1004 non-null   float64\n",
      "dtypes: float64(34), object(2)\n",
      "memory usage: 282.5+ KB\n"
     ]
    }
   ],
   "source": [
    "df.info()"
   ]
  },
  {
   "cell_type": "code",
   "execution_count": 6,
   "metadata": {},
   "outputs": [
    {
     "data": {
      "image/png": "[encoded data removed]",
      "text/plain": [
       "<Figure size 640x480 with 1 Axes>"
      ]
     },
     "metadata": {},
     "output_type": "display_data"
    }
   ],
   "source": [
    "df.label.value_counts().plot(kind=\"bar\")\n",
    "plt.xticks(rotation=45)\n",
    "plt.show()"
   ]
  },
  {
   "attachments": {},
   "cell_type": "markdown",
   "metadata": {},
   "source": [
    "## Train Test Split"
   ]
  },
  {
   "cell_type": "code",
   "execution_count": 7,
   "metadata": {},
   "outputs": [
    {
     "data": {
      "text/plain": [
       "array([0, 0, 0, ..., 4, 4, 4])"
      ]
     },
     "execution_count": 7,
     "metadata": {},
     "output_type": "execute_result"
    }
   ],
   "source": [
    "# encoder label\n",
    "encoder = LabelEncoder()\n",
    "y_label = df['label']\n",
    "y = encoder.fit_transform(y_label)\n",
    "y"
   ]
  },
  {
   "cell_type": "code",
   "execution_count": 8,
   "metadata": {},
   "outputs": [
    {
     "data": {
      "text/plain": [
       "array([0.99405941, 0.9795122 , 1.01928934, 0.99900498, 1.00904523])"
      ]
     },
     "execution_count": 8,
     "metadata": {},
     "output_type": "execute_result"
    }
   ],
   "source": [
    "class_weights = compute_class_weight(class_weight='balanced', classes=np.unique(y), y=y)\n",
    "class_weights"
   ]
  },
  {
   "cell_type": "code",
   "execution_count": 9,
   "metadata": {},
   "outputs": [
    {
     "data": {
      "text/html": [
       "<div>\n",
       "<style scoped>\n",
       "    .dataframe tbody tr th:only-of-type {\n",
       "        vertical-align: middle;\n",
       "    }\n",
       "\n",
       "    .dataframe tbody tr th {\n",
       "        vertical-align: top;\n",
       "    }\n",
       "\n",
       "    .dataframe thead th {\n",
       "        text-align: right;\n",
       "    }\n",
       "</style>\n",
       "<table border=\"1\" class=\"dataframe\">\n",
       "  <thead>\n",
       "    <tr style=\"text-align: right;\">\n",
       "      <th></th>\n",
       "      <th>left_shoulder_x</th>\n",
       "      <th>left_shoulder_y</th>\n",
       "      <th>right_shoulder_x</th>\n",
       "      <th>right_shoulder_y</th>\n",
       "      <th>left_elbow_x</th>\n",
       "      <th>left_elbow_y</th>\n",
       "      <th>right_elbow_x</th>\n",
       "      <th>right_elbow_y</th>\n",
       "      <th>left_wrist_x</th>\n",
       "      <th>left_wrist_y</th>\n",
       "      <th>...</th>\n",
       "      <th>right_hip_x</th>\n",
       "      <th>right_hip_y</th>\n",
       "      <th>left_knee_x</th>\n",
       "      <th>left_knee_y</th>\n",
       "      <th>right_knee_x</th>\n",
       "      <th>right_knee_y</th>\n",
       "      <th>left_ankle_x</th>\n",
       "      <th>left_ankle_y</th>\n",
       "      <th>right_ankle_x</th>\n",
       "      <th>right_ankle_y</th>\n",
       "    </tr>\n",
       "  </thead>\n",
       "  <tbody>\n",
       "    <tr>\n",
       "      <th>0</th>\n",
       "      <td>0.450598</td>\n",
       "      <td>0.620051</td>\n",
       "      <td>0.497745</td>\n",
       "      <td>0.629063</td>\n",
       "      <td>0.394787</td>\n",
       "      <td>0.655687</td>\n",
       "      <td>0.000000</td>\n",
       "      <td>0.000000</td>\n",
       "      <td>0.000000</td>\n",
       "      <td>0.000000</td>\n",
       "      <td>...</td>\n",
       "      <td>0.695969</td>\n",
       "      <td>0.260520</td>\n",
       "      <td>0.619796</td>\n",
       "      <td>0.504690</td>\n",
       "      <td>0.762562</td>\n",
       "      <td>0.551694</td>\n",
       "      <td>0.706103</td>\n",
       "      <td>0.790374</td>\n",
       "      <td>0.879458</td>\n",
       "      <td>0.832860</td>\n",
       "    </tr>\n",
       "    <tr>\n",
       "      <th>1</th>\n",
       "      <td>0.556924</td>\n",
       "      <td>0.646949</td>\n",
       "      <td>0.606709</td>\n",
       "      <td>0.689003</td>\n",
       "      <td>0.000000</td>\n",
       "      <td>0.000000</td>\n",
       "      <td>0.684921</td>\n",
       "      <td>0.737728</td>\n",
       "      <td>0.000000</td>\n",
       "      <td>0.000000</td>\n",
       "      <td>...</td>\n",
       "      <td>0.453109</td>\n",
       "      <td>0.348371</td>\n",
       "      <td>0.355281</td>\n",
       "      <td>0.578486</td>\n",
       "      <td>0.325459</td>\n",
       "      <td>0.613711</td>\n",
       "      <td>0.259589</td>\n",
       "      <td>0.717657</td>\n",
       "      <td>0.194717</td>\n",
       "      <td>0.825359</td>\n",
       "    </tr>\n",
       "    <tr>\n",
       "      <th>2</th>\n",
       "      <td>0.686273</td>\n",
       "      <td>0.588428</td>\n",
       "      <td>0.639830</td>\n",
       "      <td>0.607536</td>\n",
       "      <td>0.000000</td>\n",
       "      <td>0.000000</td>\n",
       "      <td>0.721455</td>\n",
       "      <td>0.762504</td>\n",
       "      <td>0.823343</td>\n",
       "      <td>0.879429</td>\n",
       "      <td>...</td>\n",
       "      <td>0.451703</td>\n",
       "      <td>0.435310</td>\n",
       "      <td>0.397286</td>\n",
       "      <td>0.429829</td>\n",
       "      <td>0.367691</td>\n",
       "      <td>0.434211</td>\n",
       "      <td>0.000000</td>\n",
       "      <td>0.000000</td>\n",
       "      <td>0.215103</td>\n",
       "      <td>0.568303</td>\n",
       "    </tr>\n",
       "    <tr>\n",
       "      <th>3</th>\n",
       "      <td>0.595953</td>\n",
       "      <td>0.660678</td>\n",
       "      <td>0.598551</td>\n",
       "      <td>0.679008</td>\n",
       "      <td>0.687096</td>\n",
       "      <td>0.680669</td>\n",
       "      <td>0.702134</td>\n",
       "      <td>0.728780</td>\n",
       "      <td>0.000000</td>\n",
       "      <td>0.000000</td>\n",
       "      <td>...</td>\n",
       "      <td>0.456534</td>\n",
       "      <td>0.374978</td>\n",
       "      <td>0.334141</td>\n",
       "      <td>0.473744</td>\n",
       "      <td>0.306259</td>\n",
       "      <td>0.505056</td>\n",
       "      <td>0.276306</td>\n",
       "      <td>0.649070</td>\n",
       "      <td>0.208824</td>\n",
       "      <td>0.730870</td>\n",
       "    </tr>\n",
       "    <tr>\n",
       "      <th>4</th>\n",
       "      <td>0.288910</td>\n",
       "      <td>0.575801</td>\n",
       "      <td>0.325117</td>\n",
       "      <td>0.543053</td>\n",
       "      <td>0.238125</td>\n",
       "      <td>0.651533</td>\n",
       "      <td>0.000000</td>\n",
       "      <td>0.000000</td>\n",
       "      <td>0.000000</td>\n",
       "      <td>0.000000</td>\n",
       "      <td>...</td>\n",
       "      <td>0.502486</td>\n",
       "      <td>0.255956</td>\n",
       "      <td>0.652999</td>\n",
       "      <td>0.375235</td>\n",
       "      <td>0.648922</td>\n",
       "      <td>0.391600</td>\n",
       "      <td>0.811773</td>\n",
       "      <td>0.609761</td>\n",
       "      <td>0.798204</td>\n",
       "      <td>0.637249</td>\n",
       "    </tr>\n",
       "    <tr>\n",
       "      <th>...</th>\n",
       "      <td>...</td>\n",
       "      <td>...</td>\n",
       "      <td>...</td>\n",
       "      <td>...</td>\n",
       "      <td>...</td>\n",
       "      <td>...</td>\n",
       "      <td>...</td>\n",
       "      <td>...</td>\n",
       "      <td>...</td>\n",
       "      <td>...</td>\n",
       "      <td>...</td>\n",
       "      <td>...</td>\n",
       "      <td>...</td>\n",
       "      <td>...</td>\n",
       "      <td>...</td>\n",
       "      <td>...</td>\n",
       "      <td>...</td>\n",
       "      <td>...</td>\n",
       "      <td>...</td>\n",
       "      <td>...</td>\n",
       "      <td>...</td>\n",
       "    </tr>\n",
       "    <tr>\n",
       "      <th>999</th>\n",
       "      <td>0.612911</td>\n",
       "      <td>0.476978</td>\n",
       "      <td>0.546845</td>\n",
       "      <td>0.483682</td>\n",
       "      <td>0.684365</td>\n",
       "      <td>0.466085</td>\n",
       "      <td>0.495472</td>\n",
       "      <td>0.482533</td>\n",
       "      <td>0.743607</td>\n",
       "      <td>0.457050</td>\n",
       "      <td>...</td>\n",
       "      <td>0.573215</td>\n",
       "      <td>0.667844</td>\n",
       "      <td>0.686947</td>\n",
       "      <td>0.717033</td>\n",
       "      <td>0.506330</td>\n",
       "      <td>0.712759</td>\n",
       "      <td>0.788936</td>\n",
       "      <td>0.837388</td>\n",
       "      <td>0.525273</td>\n",
       "      <td>0.852152</td>\n",
       "    </tr>\n",
       "    <tr>\n",
       "      <th>1000</th>\n",
       "      <td>0.488986</td>\n",
       "      <td>0.587426</td>\n",
       "      <td>0.385186</td>\n",
       "      <td>0.570885</td>\n",
       "      <td>0.574384</td>\n",
       "      <td>0.587701</td>\n",
       "      <td>0.310186</td>\n",
       "      <td>0.557648</td>\n",
       "      <td>0.655582</td>\n",
       "      <td>0.595269</td>\n",
       "      <td>...</td>\n",
       "      <td>0.392372</td>\n",
       "      <td>0.683234</td>\n",
       "      <td>0.526777</td>\n",
       "      <td>0.756830</td>\n",
       "      <td>0.298768</td>\n",
       "      <td>0.710374</td>\n",
       "      <td>0.604428</td>\n",
       "      <td>0.840764</td>\n",
       "      <td>0.282299</td>\n",
       "      <td>0.786372</td>\n",
       "    </tr>\n",
       "    <tr>\n",
       "      <th>1001</th>\n",
       "      <td>0.059324</td>\n",
       "      <td>0.639251</td>\n",
       "      <td>0.094664</td>\n",
       "      <td>0.641902</td>\n",
       "      <td>0.000000</td>\n",
       "      <td>0.000000</td>\n",
       "      <td>0.117619</td>\n",
       "      <td>0.656684</td>\n",
       "      <td>0.000000</td>\n",
       "      <td>0.000000</td>\n",
       "      <td>...</td>\n",
       "      <td>0.085242</td>\n",
       "      <td>0.686824</td>\n",
       "      <td>0.078414</td>\n",
       "      <td>0.720057</td>\n",
       "      <td>0.087063</td>\n",
       "      <td>0.721292</td>\n",
       "      <td>0.073920</td>\n",
       "      <td>0.748566</td>\n",
       "      <td>0.072711</td>\n",
       "      <td>0.751234</td>\n",
       "    </tr>\n",
       "    <tr>\n",
       "      <th>1002</th>\n",
       "      <td>0.559900</td>\n",
       "      <td>0.271407</td>\n",
       "      <td>0.424628</td>\n",
       "      <td>0.261999</td>\n",
       "      <td>0.674457</td>\n",
       "      <td>0.274979</td>\n",
       "      <td>0.303001</td>\n",
       "      <td>0.283375</td>\n",
       "      <td>0.795667</td>\n",
       "      <td>0.260043</td>\n",
       "      <td>...</td>\n",
       "      <td>0.443821</td>\n",
       "      <td>0.544569</td>\n",
       "      <td>0.689699</td>\n",
       "      <td>0.699572</td>\n",
       "      <td>0.308941</td>\n",
       "      <td>0.660786</td>\n",
       "      <td>0.822084</td>\n",
       "      <td>0.889280</td>\n",
       "      <td>0.263538</td>\n",
       "      <td>0.862806</td>\n",
       "    </tr>\n",
       "    <tr>\n",
       "      <th>1003</th>\n",
       "      <td>0.369599</td>\n",
       "      <td>0.617030</td>\n",
       "      <td>0.307971</td>\n",
       "      <td>0.617344</td>\n",
       "      <td>0.427441</td>\n",
       "      <td>0.620618</td>\n",
       "      <td>0.253959</td>\n",
       "      <td>0.625117</td>\n",
       "      <td>0.496139</td>\n",
       "      <td>0.611138</td>\n",
       "      <td>...</td>\n",
       "      <td>0.317665</td>\n",
       "      <td>0.749921</td>\n",
       "      <td>0.446252</td>\n",
       "      <td>0.793141</td>\n",
       "      <td>0.253214</td>\n",
       "      <td>0.804555</td>\n",
       "      <td>0.456111</td>\n",
       "      <td>0.882840</td>\n",
       "      <td>0.178729</td>\n",
       "      <td>0.889427</td>\n",
       "    </tr>\n",
       "  </tbody>\n",
       "</table>\n",
       "<p>1004 rows × 24 columns</p>\n",
       "</div>"
      ],
      "text/plain": [
       "      left_shoulder_x  left_shoulder_y  right_shoulder_x  right_shoulder_y  \\\n",
       "0            0.450598         0.620051          0.497745          0.629063   \n",
       "1            0.556924         0.646949          0.606709          0.689003   \n",
       "2            0.686273         0.588428          0.639830          0.607536   \n",
       "3            0.595953         0.660678          0.598551          0.679008   \n",
       "4            0.288910         0.575801          0.325117          0.543053   \n",
       "...               ...              ...               ...               ...   \n",
       "999          0.612911         0.476978          0.546845          0.483682   \n",
       "1000         0.488986         0.587426          0.385186          0.570885   \n",
       "1001         0.059324         0.639251          0.094664          0.641902   \n",
       "1002         0.559900         0.271407          0.424628          0.261999   \n",
       "1003         0.369599         0.617030          0.307971          0.617344   \n",
       "\n",
       "      left_elbow_x  left_elbow_y  right_elbow_x  right_elbow_y  left_wrist_x  \\\n",
       "0         0.394787      0.655687       0.000000       0.000000      0.000000   \n",
       "1         0.000000      0.000000       0.684921       0.737728      0.000000   \n",
       "2         0.000000      0.000000       0.721455       0.762504      0.823343   \n",
       "3         0.687096      0.680669       0.702134       0.728780      0.000000   \n",
       "4         0.238125      0.651533       0.000000       0.000000      0.000000   \n",
       "...            ...           ...            ...            ...           ...   \n",
       "999       0.684365      0.466085       0.495472       0.482533      0.743607   \n",
       "1000      0.574384      0.587701       0.310186       0.557648      0.655582   \n",
       "1001      0.000000      0.000000       0.117619       0.656684      0.000000   \n",
       "1002      0.674457      0.274979       0.303001       0.283375      0.795667   \n",
       "1003      0.427441      0.620618       0.253959       0.625117      0.496139   \n",
       "\n",
       "      left_wrist_y  ...  right_hip_x  right_hip_y  left_knee_x  left_knee_y  \\\n",
       "0         0.000000  ...     0.695969     0.260520     0.619796     0.504690   \n",
       "1         0.000000  ...     0.453109     0.348371     0.355281     0.578486   \n",
       "2         0.879429  ...     0.451703     0.435310     0.397286     0.429829   \n",
       "3         0.000000  ...     0.456534     0.374978     0.334141     0.473744   \n",
       "4         0.000000  ...     0.502486     0.255956     0.652999     0.375235   \n",
       "...            ...  ...          ...          ...          ...          ...   \n",
       "999       0.457050  ...     0.573215     0.667844     0.686947     0.717033   \n",
       "1000      0.595269  ...     0.392372     0.683234     0.526777     0.756830   \n",
       "1001      0.000000  ...     0.085242     0.686824     0.078414     0.720057   \n",
       "1002      0.260043  ...     0.443821     0.544569     0.689699     0.699572   \n",
       "1003      0.611138  ...     0.317665     0.749921     0.446252     0.793141   \n",
       "\n",
       "      right_knee_x  right_knee_y  left_ankle_x  left_ankle_y  right_ankle_x  \\\n",
       "0         0.762562      0.551694      0.706103      0.790374       0.879458   \n",
       "1         0.325459      0.613711      0.259589      0.717657       0.194717   \n",
       "2         0.367691      0.434211      0.000000      0.000000       0.215103   \n",
       "3         0.306259      0.505056      0.276306      0.649070       0.208824   \n",
       "4         0.648922      0.391600      0.811773      0.609761       0.798204   \n",
       "...            ...           ...           ...           ...            ...   \n",
       "999       0.506330      0.712759      0.788936      0.837388       0.525273   \n",
       "1000      0.298768      0.710374      0.604428      0.840764       0.282299   \n",
       "1001      0.087063      0.721292      0.073920      0.748566       0.072711   \n",
       "1002      0.308941      0.660786      0.822084      0.889280       0.263538   \n",
       "1003      0.253214      0.804555      0.456111      0.882840       0.178729   \n",
       "\n",
       "      right_ankle_y  \n",
       "0          0.832860  \n",
       "1          0.825359  \n",
       "2          0.568303  \n",
       "3          0.730870  \n",
       "4          0.637249  \n",
       "...             ...  \n",
       "999        0.852152  \n",
       "1000       0.786372  \n",
       "1001       0.751234  \n",
       "1002       0.862806  \n",
       "1003       0.889427  \n",
       "\n",
       "[1004 rows x 24 columns]"
      ]
     },
     "execution_count": 9,
     "metadata": {},
     "output_type": "execute_result"
    }
   ],
   "source": [
    "# Get keypoint dataset\n",
    "X = df.iloc[:,12:]\n",
    "X"
   ]
  },
  {
   "cell_type": "code",
   "execution_count": 10,
   "metadata": {},
   "outputs": [
    {
     "name": "stdout",
     "output_type": "stream",
     "text": [
      "Number of Training keypoints:  803\n",
      "Number of Testing keypoints:  201\n"
     ]
    }
   ],
   "source": [
    "# train test split\n",
    "X_train, X_test, y_train, y_test = train_test_split(X, y, test_size=0.2, stratify=y, shuffle=True, random_state=2022)\n",
    "\n",
    "print(\"Number of Training keypoints: \", len(X_train))\n",
    "print(\"Number of Testing keypoints: \", len(X_test))"
   ]
  },
  {
   "cell_type": "code",
   "execution_count": 11,
   "metadata": {},
   "outputs": [],
   "source": [
    "scaler = MinMaxScaler()"
   ]
  },
  {
   "cell_type": "code",
   "execution_count": 12,
   "metadata": {},
   "outputs": [
    {
     "data": {
      "text/plain": [
       "array([[0.71542513, 0.77731706, 0.67511303, ..., 0.5947691 , 0.28496095,\n",
       "        0.71987059],\n",
       "       [0.75655382, 0.64279512, 0.75264637, ..., 0.6065499 , 0.18646032,\n",
       "        0.7830098 ],\n",
       "       [0.55720477, 0.82887307, 0.53763537, ..., 0.7535255 , 0.37728754,\n",
       "        0.7597286 ],\n",
       "       ...,\n",
       "       [0.61332646, 0.72925623, 0.68578282, ..., 0.5518236 , 0.26510985,\n",
       "        0.67919095],\n",
       "       [0.39098543, 0.84501209, 0.50125609, ..., 0.7006478 , 0.85150522,\n",
       "        0.61803432],\n",
       "       [0.17336291, 0.78141631, 0.17130088, ..., 0.81799567, 0.95014293,\n",
       "        0.81313719]])"
      ]
     },
     "execution_count": 12,
     "metadata": {},
     "output_type": "execute_result"
    }
   ],
   "source": [
    "X_train = scaler.fit_transform(X_train)\n",
    "X_test = scaler.transform(X_test)\n",
    "X_test"
   ]
  },
  {
   "attachments": {},
   "cell_type": "markdown",
   "metadata": {},
   "source": [
    "## Data Loader"
   ]
  },
  {
   "cell_type": "code",
   "execution_count": 13,
   "metadata": {},
   "outputs": [],
   "source": [
    "class DataKeypointClassification(Dataset):\n",
    "    def __init__(self, X, y):\n",
    "        self.x = torch.from_numpy(X.astype(np.float32))\n",
    "        self.y = torch.from_numpy(y.astype(np.int64))\n",
    "        self.n_samples = X.shape[0]\n",
    "    \n",
    "    def __getitem__(self, index):\n",
    "        return self.x[index], self.y[index]\n",
    "    \n",
    "    def __len__(self):\n",
    "        return self.n_samples"
   ]
  },
  {
   "cell_type": "code",
   "execution_count": 14,
   "metadata": {},
   "outputs": [],
   "source": [
    "train_dataset = DataKeypointClassification(X_train, y_train)\n",
    "test_dataset = DataKeypointClassification(X_test, y_test)"
   ]
  },
  {
   "cell_type": "code",
   "execution_count": 15,
   "metadata": {},
   "outputs": [],
   "source": [
    "batch_size = 12\n",
    "train_loader = DataLoader(train_dataset, batch_size=batch_size)\n",
    "test_loader = DataLoader(test_dataset, batch_size=batch_size)"
   ]
  },
  {
   "attachments": {},
   "cell_type": "markdown",
   "metadata": {},
   "source": [
    "## Model"
   ]
  },
  {
   "cell_type": "code",
   "execution_count": 16,
   "metadata": {},
   "outputs": [],
   "source": [
    "class NeuralNet(nn.Module):\n",
    "    def __init__(self, input_size, hidden_size, num_classes):\n",
    "        super(NeuralNet, self).__init__()\n",
    "        self.l1 = nn.Linear(input_size, hidden_size)\n",
    "        self.relu = nn.ReLU()\n",
    "        self.l2 = nn.Linear(hidden_size, num_classes)\n",
    "        \n",
    "    def forward(self, x):\n",
    "        out = self.l1(x)\n",
    "        out = self.relu(out)\n",
    "        out = self.l2(out)\n",
    "        return out"
   ]
  },
  {
   "cell_type": "code",
   "execution_count": 17,
   "metadata": {},
   "outputs": [],
   "source": [
    "hidden_size = 256\n",
    "model = NeuralNet(X_train.shape[1], hidden_size, len(class_weights))"
   ]
  },
  {
   "cell_type": "code",
   "execution_count": 18,
   "metadata": {},
   "outputs": [
    {
     "data": {
      "text/plain": [
       "5"
      ]
     },
     "execution_count": 18,
     "metadata": {},
     "output_type": "execute_result"
    }
   ],
   "source": [
    "len(class_weights)"
   ]
  },
  {
   "attachments": {},
   "cell_type": "markdown",
   "metadata": {},
   "source": [
    "## Loss & Optimizer"
   ]
  },
  {
   "cell_type": "code",
   "execution_count": 19,
   "metadata": {},
   "outputs": [],
   "source": [
    "learning_rate = 0.01\n",
    "criterion = nn.CrossEntropyLoss(weight=torch.from_numpy(class_weights.astype(np.float32)))\n",
    "optimizer = torch.optim.Adam(model.parameters(), lr=learning_rate)"
   ]
  },
  {
   "attachments": {},
   "cell_type": "markdown",
   "metadata": {},
   "source": [
    "## Training"
   ]
  },
  {
   "cell_type": "code",
   "execution_count": 20,
   "metadata": {},
   "outputs": [
    {
     "name": "stderr",
     "output_type": "stream",
     "text": [
      "  0%|          | 0/67 [00:00<?, ?it/s]"
     ]
    },
    {
     "name": "stderr",
     "output_type": "stream",
     "text": [
      "Epoch [0/40]: 100%|██████████| 67/67 [00:01<00:00, 54.35it/s, acc=0.667, loss=0.625]\n",
      "Epoch [1/40]: 100%|██████████| 67/67 [00:01<00:00, 53.49it/s, acc=0.833, loss=0.36] \n",
      "Epoch [2/40]: 100%|██████████| 67/67 [00:01<00:00, 51.00it/s, acc=0.833, loss=0.251]\n",
      "Epoch [3/40]: 100%|██████████| 67/67 [00:01<00:00, 57.02it/s, acc=0.833, loss=0.205]\n",
      "Epoch [4/40]: 100%|██████████| 67/67 [00:01<00:00, 51.39it/s, acc=0.833, loss=0.221]\n",
      "Epoch [5/40]: 100%|██████████| 67/67 [00:01<00:00, 54.34it/s, acc=0.833, loss=0.172]\n",
      "Epoch [6/40]: 100%|██████████| 67/67 [00:01<00:00, 53.17it/s, acc=0.833, loss=0.145]\n",
      "Epoch [7/40]: 100%|██████████| 67/67 [00:01<00:00, 57.47it/s, acc=0.833, loss=0.137]\n",
      "Epoch [8/40]: 100%|██████████| 67/67 [00:01<00:00, 66.18it/s, acc=0.917, loss=0.11] \n",
      "Epoch [9/40]: 100%|██████████| 67/67 [00:01<00:00, 65.40it/s, acc=0.833, loss=0.128]\n",
      "Epoch [10/40]: 100%|██████████| 67/67 [00:01<00:00, 59.44it/s, acc=0.917, loss=0.104]\n",
      "Epoch [11/40]: 100%|██████████| 67/67 [00:00<00:00, 68.88it/s, acc=0.917, loss=0.0984]\n",
      "Epoch [12/40]: 100%|██████████| 67/67 [00:01<00:00, 58.07it/s, acc=0.917, loss=0.0858]\n",
      "Epoch [13/40]: 100%|██████████| 67/67 [00:01<00:00, 60.26it/s, acc=0.917, loss=0.098]\n",
      "Epoch [14/40]: 100%|██████████| 67/67 [00:01<00:00, 58.40it/s, acc=0.917, loss=0.0775]\n",
      "Epoch [15/40]: 100%|██████████| 67/67 [00:01<00:00, 61.67it/s, acc=0.917, loss=0.109] \n",
      "Epoch [16/40]: 100%|██████████| 67/67 [00:00<00:00, 68.15it/s, acc=0.917, loss=0.102]\n",
      "Epoch [17/40]: 100%|██████████| 67/67 [00:01<00:00, 56.88it/s, acc=0.917, loss=0.0974]\n",
      "Epoch [18/40]: 100%|██████████| 67/67 [00:01<00:00, 65.17it/s, acc=0.917, loss=0.082]\n",
      "Epoch [19/40]: 100%|██████████| 67/67 [00:01<00:00, 57.13it/s, acc=0.917, loss=0.0805]\n",
      "Epoch [20/40]: 100%|██████████| 67/67 [00:01<00:00, 63.80it/s, acc=0.917, loss=0.0783]\n",
      "Epoch [21/40]: 100%|██████████| 67/67 [00:01<00:00, 60.10it/s, acc=0.833, loss=0.0967]\n",
      "Epoch [22/40]: 100%|██████████| 67/67 [00:01<00:00, 62.53it/s, acc=0.917, loss=0.0808]\n",
      "Epoch [23/40]: 100%|██████████| 67/67 [00:01<00:00, 61.69it/s, acc=0.917, loss=0.0692]\n",
      "Epoch [24/40]: 100%|██████████| 67/67 [00:00<00:00, 68.98it/s, acc=0.917, loss=0.0768]\n",
      "Epoch [25/40]: 100%|██████████| 67/67 [00:00<00:00, 78.06it/s, acc=0.917, loss=0.0906]\n",
      "Epoch [26/40]: 100%|██████████| 67/67 [00:00<00:00, 89.79it/s, acc=0.917, loss=0.055] \n",
      "Epoch [27/40]: 100%|██████████| 67/67 [00:01<00:00, 66.68it/s, acc=0.833, loss=0.0906]\n",
      "Epoch [28/40]: 100%|██████████| 67/67 [00:00<00:00, 88.00it/s, acc=0.917, loss=0.0548]\n",
      "Epoch [29/40]: 100%|██████████| 67/67 [00:00<00:00, 92.96it/s, acc=0.833, loss=0.1]   \n",
      "Epoch [30/40]: 100%|██████████| 67/67 [00:00<00:00, 94.92it/s, acc=0.917, loss=0.0505]\n",
      "Epoch [31/40]: 100%|██████████| 67/67 [00:00<00:00, 86.30it/s, acc=0.917, loss=0.0863]\n",
      "Epoch [32/40]: 100%|██████████| 67/67 [00:00<00:00, 85.51it/s, acc=0.917, loss=0.0567]\n",
      "Epoch [33/40]: 100%|██████████| 67/67 [00:00<00:00, 82.56it/s, acc=0.833, loss=0.0871]\n",
      "Epoch [34/40]: 100%|██████████| 67/67 [00:00<00:00, 69.65it/s, acc=0.917, loss=0.0354]\n",
      "Epoch [35/40]: 100%|██████████| 67/67 [00:00<00:00, 81.78it/s, acc=0.917, loss=0.0362]\n",
      "Epoch [36/40]: 100%|██████████| 67/67 [00:00<00:00, 75.18it/s, acc=0.917, loss=0.0735]\n",
      "Epoch [37/40]: 100%|██████████| 67/67 [00:00<00:00, 73.81it/s, acc=0.917, loss=0.0283]\n",
      "Epoch [38/40]: 100%|██████████| 67/67 [00:00<00:00, 91.44it/s, acc=0.917, loss=0.049] \n",
      "Epoch [39/40]: 100%|██████████| 67/67 [00:00<00:00, 92.20it/s, acc=0.917, loss=0.0638]\n"
     ]
    }
   ],
   "source": [
    "num_epoch = 40\n",
    "for epoch in range(num_epoch):\n",
    "    train_acc = 0\n",
    "    train_loss = 0\n",
    "    loop = tqdm(train_loader)\n",
    "    for idx, (features, labels) in enumerate(loop):\n",
    "        outputs = model(features)\n",
    "        loss = criterion(outputs, labels)\n",
    "\n",
    "        predictions = outputs.argmax(dim=1, keepdim=True).squeeze()\n",
    "        correct = (predictions == labels).sum().item()\n",
    "        accuracy = correct / batch_size\n",
    "        optimizer.zero_grad()\n",
    "        loss.backward()\n",
    "        optimizer.step()\n",
    "\n",
    "        loop.set_description(f\"Epoch [{epoch}/{num_epoch}]\")\n",
    "        loop.set_postfix(loss=loss.item(), acc=accuracy)\n"
   ]
  },
  {
   "attachments": {},
   "cell_type": "markdown",
   "metadata": {},
   "source": [
    "## Test Model"
   ]
  },
  {
   "cell_type": "code",
   "execution_count": 21,
   "metadata": {},
   "outputs": [
    {
     "data": {
      "text/plain": [
       "tensor([0, 2, 0, 3, 3, 2, 4, 4, 0, 0, 1, 3, 3, 2, 4, 4, 4, 0, 0, 2, 4, 3, 1, 3,\n",
       "        3, 1, 1, 1, 4, 3, 2, 4, 4, 1, 0, 2, 4, 0, 2, 2, 1, 3, 1, 0, 0, 3, 0, 3,\n",
       "        1, 1, 1, 2, 3, 0, 4, 2, 0, 2, 0, 3, 1, 0, 1, 0, 0, 4, 0, 1, 0, 0, 1, 4,\n",
       "        0, 2, 1, 1, 4, 3, 4, 3, 2, 2, 2, 4, 0, 0, 0, 2, 2, 1, 4, 3, 1, 1, 0, 0,\n",
       "        4, 3, 1, 3, 0, 4, 1, 1, 0, 1, 2, 1, 0, 4, 4, 0, 3, 2, 4, 4, 2, 0, 4, 1,\n",
       "        1, 0, 3, 3, 3, 1, 3, 3, 2, 0, 3, 0, 4, 4, 0, 1, 0, 1, 3, 0, 1, 3, 3, 1,\n",
       "        3, 1, 2, 3, 1, 4, 3, 1, 1, 0, 2, 4, 4, 2, 3, 3, 4, 1, 4, 3, 3, 2, 3, 3,\n",
       "        4, 0, 4, 3, 3, 2, 4, 3, 2, 3, 2, 0, 1, 2, 4, 2, 2, 1, 0, 1, 4, 4, 4, 1,\n",
       "        0, 3, 1, 3, 2, 4, 0, 0, 2])"
      ]
     },
     "execution_count": 21,
     "metadata": {},
     "output_type": "execute_result"
    }
   ],
   "source": [
    "test_features = torch.from_numpy(X_test.astype(np.float32))\n",
    "test_labels = y_test\n",
    "with torch.no_grad():\n",
    "    outputs = model(test_features)\n",
    "    _, predictions = torch.max(outputs, 1)\n",
    "predictions"
   ]
  },
  {
   "cell_type": "code",
   "execution_count": 22,
   "metadata": {},
   "outputs": [
    {
     "name": "stdout",
     "output_type": "stream",
     "text": [
      "              precision    recall  f1-score   support\n",
      "\n",
      "     Downdog       0.91      0.98      0.94        41\n",
      "     Goddess       0.79      0.80      0.80        41\n",
      "       Plank       1.00      0.85      0.92        39\n",
      "        Tree       0.86      0.93      0.89        40\n",
      "    Warrior2       0.74      0.72      0.73        40\n",
      "\n",
      "    accuracy                           0.86       201\n",
      "   macro avg       0.86      0.86      0.86       201\n",
      "weighted avg       0.86      0.86      0.86       201\n",
      "\n"
     ]
    }
   ],
   "source": [
    "print(classification_report(test_labels, predictions, target_names=encoder.classes_))"
   ]
  },
  {
   "cell_type": "code",
   "execution_count": 23,
   "metadata": {},
   "outputs": [
    {
     "data": {
      "text/html": [
       "<div>\n",
       "<style scoped>\n",
       "    .dataframe tbody tr th:only-of-type {\n",
       "        vertical-align: middle;\n",
       "    }\n",
       "\n",
       "    .dataframe tbody tr th {\n",
       "        vertical-align: top;\n",
       "    }\n",
       "\n",
       "    .dataframe thead th {\n",
       "        text-align: right;\n",
       "    }\n",
       "</style>\n",
       "<table border=\"1\" class=\"dataframe\">\n",
       "  <thead>\n",
       "    <tr style=\"text-align: right;\">\n",
       "      <th></th>\n",
       "      <th>Downdog</th>\n",
       "      <th>Goddess</th>\n",
       "      <th>Plank</th>\n",
       "      <th>Tree</th>\n",
       "      <th>Warrior2</th>\n",
       "    </tr>\n",
       "  </thead>\n",
       "  <tbody>\n",
       "    <tr>\n",
       "      <th>Downdog</th>\n",
       "      <td>40</td>\n",
       "      <td>0</td>\n",
       "      <td>0</td>\n",
       "      <td>0</td>\n",
       "      <td>1</td>\n",
       "    </tr>\n",
       "    <tr>\n",
       "      <th>Goddess</th>\n",
       "      <td>0</td>\n",
       "      <td>33</td>\n",
       "      <td>0</td>\n",
       "      <td>3</td>\n",
       "      <td>5</td>\n",
       "    </tr>\n",
       "    <tr>\n",
       "      <th>Plank</th>\n",
       "      <td>3</td>\n",
       "      <td>0</td>\n",
       "      <td>33</td>\n",
       "      <td>1</td>\n",
       "      <td>2</td>\n",
       "    </tr>\n",
       "    <tr>\n",
       "      <th>Tree</th>\n",
       "      <td>1</td>\n",
       "      <td>0</td>\n",
       "      <td>0</td>\n",
       "      <td>37</td>\n",
       "      <td>2</td>\n",
       "    </tr>\n",
       "    <tr>\n",
       "      <th>Warrior2</th>\n",
       "      <td>0</td>\n",
       "      <td>9</td>\n",
       "      <td>0</td>\n",
       "      <td>2</td>\n",
       "      <td>29</td>\n",
       "    </tr>\n",
       "  </tbody>\n",
       "</table>\n",
       "</div>"
      ],
      "text/plain": [
       "          Downdog  Goddess  Plank  Tree  Warrior2\n",
       "Downdog        40        0      0     0         1\n",
       "Goddess         0       33      0     3         5\n",
       "Plank           3        0     33     1         2\n",
       "Tree            1        0      0    37         2\n",
       "Warrior2        0        9      0     2        29"
      ]
     },
     "execution_count": 23,
     "metadata": {},
     "output_type": "execute_result"
    }
   ],
   "source": [
    "cm = confusion_matrix(test_labels, predictions)\n",
    "df_cm = pd.DataFrame(\n",
    "    cm, \n",
    "    index = encoder.classes_,\n",
    "    columns = encoder.classes_\n",
    ")\n",
    "df_cm"
   ]
  },
  {
   "cell_type": "code",
   "execution_count": 24,
   "metadata": {},
   "outputs": [
    {
     "name": "stderr",
     "output_type": "stream",
     "text": [
      "No artists with labels found to put in legend.  Note that artists whose label start with an underscore are ignored when legend() is called with no argument.\n"
     ]
    },
    {
     "data": {
      "image/png": "[encoded data removed]",
      "text/plain": [
       "<Figure size 640x480 with 2 Axes>"
      ]
     },
     "metadata": {},
     "output_type": "display_data"
    }
   ],
   "source": [
    "import seaborn as sns\n",
    "def show_confusion_matrix(confusion_matrix):\n",
    "    hmap = sns.heatmap(confusion_matrix, annot=True, fmt=\"d\", cmap=\"Blues\")\n",
    "    plt.ylabel(\"Surface Ground Truth\")\n",
    "    plt.xlabel(\"Predicted Surface\")\n",
    "    plt.legend()\n",
    "    \n",
    "show_confusion_matrix(df_cm)"
   ]
  },
  {
   "attachments": {},
   "cell_type": "markdown",
   "metadata": {},
   "source": [
    "## save model\n"
   ]
  },
  {
   "cell_type": "code",
   "execution_count": 27,
   "metadata": {},
   "outputs": [],
   "source": [
    "PATH_SAVE = r'C:\\Users\\ganga\\Downloads\\YOLO v-8 code\\yolo v-8 HPE\\models\\pose_classification.pth'\n",
    "torch.save(model.state_dict(), PATH_SAVE)"
   ]
  },
  {
   "attachments": {},
   "cell_type": "markdown",
   "metadata": {},
   "source": [
    "## Load Inference Model"
   ]
  },
  {
   "cell_type": "code",
   "execution_count": 28,
   "metadata": {},
   "outputs": [
    {
     "data": {
      "text/plain": [
       "<All keys matched successfully>"
      ]
     },
     "execution_count": 28,
     "metadata": {},
     "output_type": "execute_result"
    }
   ],
   "source": [
    "model_inference =  NeuralNet(\n",
    "        X_train.shape[1], \n",
    "        hidden_size, \n",
    "        len(class_weights)\n",
    "    )\n",
    "\n",
    "model_inference.load_state_dict(\n",
    "        torch.load(PATH_SAVE, map_location=device)\n",
    "    )"
   ]
  },
  {
   "cell_type": "code",
   "execution_count": 29,
   "metadata": {},
   "outputs": [
    {
     "name": "stdout",
     "output_type": "stream",
     "text": [
      "    prediction label : Plank \n",
      "    ground thrut label : Plank\n"
     ]
    }
   ],
   "source": [
    "feature, label = test_dataset.__getitem__(51)\n",
    "\n",
    "out = model_inference(feature)\n",
    "_, predict = torch.max(out, -1)\n",
    "print(f'\\\n",
    "    prediction label : {encoder.classes_[predict]} \\n\\\n",
    "    ground thrut label : {encoder.classes_[label]}'\n",
    "    )"
   ]
  },
  {
   "cell_type": "code",
   "execution_count": 30,
   "metadata": {},
   "outputs": [
    {
     "data": {
      "text/plain": [
       "array(['Downdog', 'Goddess', 'Plank', 'Tree', 'Warrior2'], dtype=object)"
      ]
     },
     "execution_count": 30,
     "metadata": {},
     "output_type": "execute_result"
    }
   ],
   "source": [
    "encoder.classes_"
   ]
  }
 ],
 "metadata": {
  "kernelspec": {
   "display_name": "Python 3",
   "language": "python",
   "name": "python3"
  },
  "language_info": {
   "codemirror_mode": {
    "name": "ipython",
    "version": 3
   },
   "file_extension": ".py",
   "mimetype": "text/x-python",
   "name": "python",
   "nbconvert_exporter": "python",
   "pygments_lexer": "ipython3",
   "version": "3.12.2"
  },
  "orig_nbformat": 4
 },
 "nbformat": 4,
 "nbformat_minor": 2
}
